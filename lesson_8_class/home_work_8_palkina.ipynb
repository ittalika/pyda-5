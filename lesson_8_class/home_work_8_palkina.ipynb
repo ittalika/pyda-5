{
 "cells": [
  {
   "cell_type": "code",
   "execution_count": 3,
   "metadata": {
    "scrolled": false
   },
   "outputs": [
    {
     "data": {
      "text/plain": [
       "'+1.1286'"
      ]
     },
     "execution_count": 3,
     "metadata": {},
     "output_type": "execute_result"
    }
   ],
   "source": [
    "import requests\n",
    "\n",
    "class Rate:\n",
    "    \n",
    "    def __init__(self, format_=\"full\", diff=False):\n",
    "        self.format = format_\n",
    "        self.diff = diff\n",
    "        \n",
    "    def exchange_rates(self):\n",
    "        self.requests = requests.get(\"https://www.cbr-xml-daily.ru/daily_json.js\")\n",
    "        return self.requests.json()[\"Valute\"] \n",
    "  \n",
    "    def max_rate(self):\n",
    "        response = self.exchange_rates()\n",
    "        rate_dict = {}\n",
    "        final_max = {}\n",
    "        for valute, info in response.items():\n",
    "            val_rate = info[\"Value\"]/info[\"Nominal\"]\n",
    "            rate_dict[valute] = val_rate \n",
    "            max_ = (sorted(rate_dict, key=lambda key: rate_dict[key]))[-1]\n",
    "        final_max[response[max_][\"Name\"]] = rate_dict[max_] \n",
    "        return final_max\n",
    "  \n",
    "    def make_format(self, currency):\n",
    "        response = self.exchange_rates()\n",
    "        if currency in response:\n",
    "            if self.format == \"full\":\n",
    "                return response[currency]\n",
    "            elif self.format == \"value\" and self.diff == True:\n",
    "                diff_rate = (round(float(response[currency][\"Value\"] - response[currency][\"Previous\"]), 4))\n",
    "                if response[currency][\"Value\"] > response[currency][\"Previous\"]:\n",
    "                    return \"+{}\".format(diff_rate) \n",
    "                else:\n",
    "                    return diff_rate\n",
    "            elif self.format == \"value\" and self.diff == False:\n",
    "                return response[currency][\"Value\"]\n",
    "        return \"Error\"\n",
    "    \n",
    "    def eur(self):\n",
    "            return self.make_format(\"EUR\")\n",
    "    \n",
    "    def usd(self):\n",
    "            return self.make_format(\"USD\")\n",
    "    \n",
    "    def brl(self):\n",
    "            return self.make_format(\"BRL\")\n",
    "\n",
    "r = Rate(format_=\"value\", diff=True)\n",
    "r.max_rate()\n",
    "r.eur()"
   ]
  },
  {
   "cell_type": "code",
   "execution_count": 5,
   "metadata": {},
   "outputs": [
    {
     "name": "stdout",
     "output_type": "stream",
     "text": [
      "Ivan 6\n"
     ]
    }
   ],
   "source": [
    "class Employee:\n",
    "    def __init__(self, name, seniority):\n",
    "        self.name = name\n",
    "        self.seniority = seniority\n",
    "        self.grade = 1\n",
    "        \n",
    "    def grade_up(self):\n",
    "        self.grade += 1        \n",
    "      \n",
    "    def publish_grade(self):\n",
    "        print(self.name, self.grade)\n",
    "        \n",
    "class Designer(Employee):\n",
    "    \n",
    "    def __init__ (self, name, seniority, int_award=False):\n",
    "        super().__init__(name, seniority)\n",
    "        self.int_award = int_award\n",
    "        self.grade = 4\n",
    "        \n",
    "    def grade_up_award(self, int_award=True):\n",
    "        self.grade += 2\n",
    "    \n",
    "    def check_if_it_is_time_to_upgrade(self):\n",
    "        self.seniority += 1\n",
    "        if self.seniority % 7 == 0:\n",
    "            self.grade_up()\n",
    "        elif self.int_award:\n",
    "            self.grade_up_award()\n",
    "        return self.publish_grade()\n",
    "    \n",
    "ivan = Designer(\"Ivan\", 1, True)\n",
    "ivan.check_if_it_is_time_to_upgrade()\n"
   ]
  }
 ],
 "metadata": {
  "kernelspec": {
   "display_name": "Python 3",
   "language": "python",
   "name": "python3"
  },
  "language_info": {
   "codemirror_mode": {
    "name": "ipython",
    "version": 3
   },
   "file_extension": ".py",
   "mimetype": "text/x-python",
   "name": "python",
   "nbconvert_exporter": "python",
   "pygments_lexer": "ipython3",
   "version": "3.8.3"
  }
 },
 "nbformat": 4,
 "nbformat_minor": 4
}
