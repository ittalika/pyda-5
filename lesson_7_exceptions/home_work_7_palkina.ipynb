{
 "cells": [
  {
   "cell_type": "code",
   "execution_count": 1,
   "metadata": {},
   "outputs": [
    {
     "name": "stdout",
     "output_type": "stream",
     "text": [
      "The Moscow Times — Wednesday, October 2, 2002\n",
      "The Guardian — Friday, 11.10.13\n",
      "Daily News — Thursday, 18 August 1977\n"
     ]
    }
   ],
   "source": [
    "mt = \"2002-10-02\"\n",
    "g = \"2013-10-11\"\n",
    "dn = \"1977-08-18\"\n",
    "\n",
    "from datetime import datetime\n",
    "    \n",
    "mt_dt = datetime.strptime(mt, \"%Y-%m-%d\")\n",
    "moscow_times = mt_dt.strftime(\"%A, %B %#d, %Y\")\n",
    "print(\"The Moscow Times —\", moscow_times)\n",
    "\n",
    "g_dt = datetime.strptime(g, \"%Y-%m-%d\")\n",
    "guardian = g_dt.strftime(\"%A, %d.%m.%y\")\n",
    "print(\"The Guardian —\", guardian)\n",
    "\n",
    "dn_dt = datetime.strptime(dn, \"%Y-%m-%d\")\n",
    "daily_news = dn_dt.strftime(\"%A, %d %B %Y\")\n",
    "print(\"Daily News —\", daily_news)"
   ]
  },
  {
   "cell_type": "code",
   "execution_count": 2,
   "metadata": {},
   "outputs": [
    {
     "name": "stdout",
     "output_type": "stream",
     "text": [
      "True\n",
      "False\n",
      "False\n"
     ]
    }
   ],
   "source": [
    "stream = [\"2018-04-02\", \"2018-02-29\", \"2018-19-02\"]\n",
    "for date in stream:\n",
    "    try:\n",
    "        datetime.strptime(date, \"%Y-%m-%d\")\n",
    "        print(True)\n",
    "    except:\n",
    "        print(False)"
   ]
  },
  {
   "cell_type": "code",
   "execution_count": 45,
   "metadata": {
    "scrolled": true
   },
   "outputs": [
    {
     "name": "stdout",
     "output_type": "stream",
     "text": [
      "Введите начальную дату: 2020-05-03\n",
      "Введите конечную дату: 2020-05-08\n",
      "2020-05-03\n",
      "2020-05-04\n",
      "2020-05-05\n",
      "2020-05-06\n",
      "2020-05-07\n",
      "2020-05-08\n"
     ]
    }
   ],
   "source": [
    "def date_range():\n",
    "    from datetime import timedelta\n",
    "    start_date = input(\"Введите начальную дату: \")\n",
    "    end_date = input(\"Введите конечную дату: \")\n",
    "    try:\n",
    "        start_date_dt = datetime.strptime(start_date, \"%Y-%m-%d\")\n",
    "        end_date_dt = datetime.strptime(end_date, \"%Y-%m-%d\")\n",
    "        if start_date_dt > end_date_dt:\n",
    "            print([])\n",
    "        while start_date_dt <= end_date_dt:\n",
    "            res = (start_date_dt).strftime(\"%Y-%m-%d\")\n",
    "            print(res)\n",
    "            start_date_dt += timedelta(days=1)\n",
    "    except:\n",
    "        print([])\n",
    "date_range()"
   ]
  },
  {
   "cell_type": "code",
   "execution_count": 4,
   "metadata": {},
   "outputs": [
    {
     "name": "stdout",
     "output_type": "stream",
     "text": [
      "Ошибка list index out of range говорит о несуществующем индексе в списке default_list. \n",
      "При первом запуске (до первого удаления) список состоит из 3 элементов, которые имеют индексы: 0, 1, 2. \n",
      "После первого запуска длина списка сокращается на один элемент и во время второго выполнения функции — еще на один. \n",
      "Таким образом, к финалу второго запуска, где появляется return, у нас уже список из одного элемента с индексом 0. \n",
      "Однако в return дана команда вернуть элемент с индексом 1, который был удален строчкой выше.\n",
      "Это невозможно, поэтому появляется сообщение об ошибке. \n",
      "Чтобы она не возникала, нужно для return прописать дополнительное условие: \n",
      "len(default_list) >= 2\n"
     ]
    }
   ],
   "source": [
    "print(\"Ошибка list index out of range говорит о несуществующем индексе в списке default_list. \\nПри первом запуске (до первого удаления) список состоит из 3 элементов, которые имеют индексы: 0, 1, 2. \\nПосле первого запуска длина списка сокращается на один элемент и во время второго выполнения функции — еще на один. \\nТаким образом, к финалу второго запуска, где появляется return, у нас уже список из одного элемента с индексом 0. \\nОднако в return дана команда вернуть элемент с индексом 1, который был удален строчкой выше.\\nЭто невозможно, поэтому появляется сообщение об ошибке. \\nЧтобы она не возникала, нужно для return прописать дополнительное условие: \\nlen(default_list) >= 2\")"
   ]
  }
 ],
 "metadata": {
  "kernelspec": {
   "display_name": "Python 3",
   "language": "python",
   "name": "python3"
  },
  "language_info": {
   "codemirror_mode": {
    "name": "ipython",
    "version": 3
   },
   "file_extension": ".py",
   "mimetype": "text/x-python",
   "name": "python",
   "nbconvert_exporter": "python",
   "pygments_lexer": "ipython3",
   "version": "3.8.3"
  }
 },
 "nbformat": 4,
 "nbformat_minor": 4
}
