{
 "cells": [
  {
   "cell_type": "code",
   "execution_count": 1,
   "metadata": {},
   "outputs": [],
   "source": [
    "with open (\"purchase_log.txt\", \"r\", encoding=\"utf-8\") as f:\n",
    "    with open (\"purchases.txt\", \"w\", encoding=\"utf-8\") as f2write:\n",
    "        import json\n",
    "        f.readline()\n",
    "        purchases = {}\n",
    "        for line in f:\n",
    "            line = line.strip()\n",
    "            dict_line = json.loads(line)\n",
    "            purchases[dict_line[\"user_id\"]] = dict_line[\"category\"]"
   ]
  },
  {
   "cell_type": "code",
   "execution_count": null,
   "metadata": {},
   "outputs": [],
   "source": [
    "with open (\"visit_log.csv\", \"r\", encoding=\"utf-8\") as f_visit:\n",
    "    with open (\"purchases.txt\", \"r\", encoding=\"utf-8\") as f_purchase:\n",
    "        with open (\"funnel.csv\", \"w\", encoding=\"utf-8\") as f_funnel:\n",
    "            f_funnel.write(\"user_id,source,category\" + \"\\n\")\n",
    "            for line in f_visit:\n",
    "                line = line.strip()\n",
    "                for key, value in purchases.items():\n",
    "                    if key in line:\n",
    "                        new_line = line + \",\" + value\n",
    "                        f_funnel.write(new_line + \"\\n\")"
   ]
  }
 ],
 "metadata": {
  "kernelspec": {
   "display_name": "Python 3",
   "language": "python",
   "name": "python3"
  },
  "language_info": {
   "codemirror_mode": {
    "name": "ipython",
    "version": 3
   },
   "file_extension": ".py",
   "mimetype": "text/x-python",
   "name": "python",
   "nbconvert_exporter": "python",
   "pygments_lexer": "ipython3",
   "version": "3.8.3"
  }
 },
 "nbformat": 4,
 "nbformat_minor": 4
}
