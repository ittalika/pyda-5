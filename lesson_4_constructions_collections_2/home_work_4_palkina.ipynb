{
 "cells": [
  {
   "cell_type": "code",
   "execution_count": 23,
   "metadata": {},
   "outputs": [
    {
     "name": "stdout",
     "output_type": "stream",
     "text": [
      "Результат: {98, 35, 15, 213, 54, 119}\n"
     ]
    }
   ],
   "source": [
    "ids = {\"user1\": [213, 213, 213, 15, 213],\n",
    "\"user2\": [54, 54, 119, 119, 119],\n",
    "\"user3\": [213, 98, 98, 35]}\n",
    "ids = ids.values()\n",
    "summary = sum(ids, [])\n",
    "print(f\"{'Результат:'} {set(summary)}\")"
   ]
  },
  {
   "cell_type": "code",
   "execution_count": 254,
   "metadata": {},
   "outputs": [
    {
     "name": "stdout",
     "output_type": "stream",
     "text": [
      "Поисковых запросов, содержащих одно слово: 0.0 %\n",
      "Поисковых запросов, содержащих два слова: 42.86 %\n",
      "Поисковых запросов, содержащих три слова: 57.14 %\n",
      "Поисковых запросов, содержащих более трех слов: 0.0 %\n"
     ]
    }
   ],
   "source": [
    "queries = [\n",
    "\"смотреть сериалы онлайн\",\n",
    "\"новости спорта\",\n",
    "\"афиша кино\",\n",
    "\"курс доллара\",\n",
    "\"сериалы этим летом\",\n",
    "\"курс по питону\",\n",
    "\"сериалы про спорт\",\n",
    "]\n",
    "result = []\n",
    "words_1 = []\n",
    "words_2 = []\n",
    "words_3 = []\n",
    "words_other = []\n",
    "i = 1\n",
    "for query in queries:\n",
    "    list = query.split()\n",
    "    words_number = len(list)\n",
    "    result.append(words_number)\n",
    "    if words_number == 1:\n",
    "        words_1.append(words_number) \n",
    "    elif words_number == 2:\n",
    "        words_2.append(words_number)\n",
    "    elif words_number == 3:\n",
    "        words_3.append(words_number)\n",
    "    else:\n",
    "        words_other.append(words_number)        \n",
    "print(\"Поисковых запросов, содержащих одно слово:\", round((len(words_1)/(len(result))*100), 2), \"%\")\n",
    "print(\"Поисковых запросов, содержащих два слова:\", round((len(words_2)/(len(result))*100), 2), \"%\")\n",
    "print(\"Поисковых запросов, содержащих три слова:\", round((len(words_3)/(len(result))*100), 2), \"%\")\n",
    "print(\"Поисковых запросов, содержащих более трех слов:\", round((len(words_other)/(len(result))*100), 2), \"%\")"
   ]
  },
  {
   "cell_type": "code",
   "execution_count": 251,
   "metadata": {},
   "outputs": [
    {
     "name": "stdout",
     "output_type": "stream",
     "text": [
      "{'adwords': {'ROI': 2.94, 'cost': 34, 'revenue': 35}, 'facebook': {'ROI': -6.36, 'cost': 110, 'revenue': 103}, 'twitter': {'ROI': -54.17, 'cost': 24, 'revenue': 11}, 'vk': {'ROI': 5.1, 'cost': 98, 'revenue': 103}, 'yandex': {'ROI': 16.99, 'cost': 153, 'revenue': 179}}\n"
     ]
    }
   ],
   "source": [
    "results = {\n",
    "\"vk\": {'revenue': 103, 'cost': 98},\n",
    "\"yandex\": {'revenue': 179, 'cost': 153},\n",
    "\"facebook\": {'revenue': 103, 'cost': 110},\n",
    "\"adwords\": {'revenue': 35, 'cost': 34},\n",
    "\"twitter\": {'revenue': 11, 'cost': 24},\n",
    "}\n",
    "for element in results.values():\n",
    "    element[\"ROI\"] = round((element[\"revenue\"]/element[\"cost\"] - 1)*100, 2)\n",
    "names_list = sorted(results.keys(), key=lambda t: t[0])\n",
    "values_dict = {}\n",
    "new_dict = {}\n",
    "i = 0\n",
    "final_results = dict(sorted(results.items(), key=lambda t: t[0]))\n",
    "for value in final_results.values():\n",
    "    value = dict(sorted(value.items(), key=lambda t: t[0]))\n",
    "    new_dict[names_list[i]] = value\n",
    "    i += 1\n",
    "print(new_dict)"
   ]
  },
  {
   "cell_type": "code",
   "execution_count": 268,
   "metadata": {},
   "outputs": [
    {
     "name": "stdout",
     "output_type": "stream",
     "text": [
      "Результат: Максимальный объем продаж на рекламном канале: vk\n"
     ]
    }
   ],
   "source": [
    "stats = {\"facebook\": 55, \"yandex\": 115, \"vk\": 120, \"google\": 99, \"email\": 42, \"ok\": 98}\n",
    "sales_volume = []\n",
    "for channel in stats.items():\n",
    "    sales_volume.append(channel[1])\n",
    "maxima = str(max(sales_volume))\n",
    "for channel in stats.items():\n",
    "    if maxima in str(channel[1]):\n",
    "        print(\"Результат: Максимальный объем продаж на рекламном канале:\", channel[0])"
   ]
  },
  {
   "cell_type": "code",
   "execution_count": 147,
   "metadata": {},
   "outputs": [
    {
     "name": "stdout",
     "output_type": "stream",
     "text": [
      "Результат: {'2018-01-01': {'yandex': {'cpc': '100'}}}\n"
     ]
    }
   ],
   "source": [
    "my_list = [\"2018-01-01\", \"yandex\", \"cpc\", \"100\"]\n",
    "my_dict2 = {}\n",
    "my_dict1 = {}\n",
    "my_dict = {}\n",
    "my_dict2[my_list[2]] = my_list[3]\n",
    "my_dict1[my_list[1]] = my_dict2\n",
    "my_dict[my_list[0]] = my_dict1\n",
    "print(\"Результат:\", my_dict)"
   ]
  }
 ],
 "metadata": {
  "kernelspec": {
   "display_name": "Python 3",
   "language": "python",
   "name": "python3"
  },
  "language_info": {
   "codemirror_mode": {
    "name": "ipython",
    "version": 3
   },
   "file_extension": ".py",
   "mimetype": "text/x-python",
   "name": "python",
   "nbconvert_exporter": "python",
   "pygments_lexer": "ipython3",
   "version": "3.8.3"
  }
 },
 "nbformat": 4,
 "nbformat_minor": 4
}
