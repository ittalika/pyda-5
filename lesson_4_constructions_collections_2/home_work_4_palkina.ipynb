{
 "cells": [
  {
   "cell_type": "code",
   "execution_count": 1,
   "metadata": {},
   "outputs": [
    {
     "name": "stdout",
     "output_type": "stream",
     "text": [
      "Результат: {98, 35, 15, 213, 54, 119}\n"
     ]
    }
   ],
   "source": [
    "ids = {\"user1\": [213, 213, 213, 15, 213],\n",
    "\"user2\": [54, 54, 119, 119, 119],\n",
    "\"user3\": [213, 98, 98, 35]}\n",
    "ids = ids.values()\n",
    "summary = sum(ids, [])\n",
    "print(f\"{'Результат:'} {set(summary)}\")"
   ]
  },
  {
   "cell_type": "code",
   "execution_count": 20,
   "metadata": {},
   "outputs": [
    {
     "name": "stdout",
     "output_type": "stream",
     "text": [
      "Поисковых запросов, содержащих 2 слов(а): 42.86%\n",
      "Поисковых запросов, содержащих 3 слов(а): 57.14%\n"
     ]
    }
   ],
   "source": [
    "queries = [\n",
    "\"смотреть сериалы онлайн\",\n",
    "\"новости спорта\",\n",
    "\"афиша кино\",\n",
    "\"курс доллара\",\n",
    "\"сериалы этим летом\",\n",
    "\"курс по питону\",\n",
    "\"сериалы про спорт\",\n",
    "]\n",
    "result = {}\n",
    "for query in queries:\n",
    "    word_count = str(len(query.split()))\n",
    "    if word_count not in result:\n",
    "        result[word_count] = 1\n",
    "    else:\n",
    "        result[word_count] += 1\n",
    "all_val = sum(result.values())\n",
    "for key, value in sorted(result.items()):\n",
    "    print(\"Поисковых запросов, содержащих {} слов(а): {}%\".format(key, round(value/all_val*100, 2)))"
   ]
  },
  {
   "cell_type": "code",
   "execution_count": 3,
   "metadata": {},
   "outputs": [
    {
     "name": "stdout",
     "output_type": "stream",
     "text": [
      "{'adwords': {'ROI': 2.94, 'cost': 34, 'revenue': 35}, 'facebook': {'ROI': -6.36, 'cost': 110, 'revenue': 103}, 'twitter': {'ROI': -54.17, 'cost': 24, 'revenue': 11}, 'vk': {'ROI': 5.1, 'cost': 98, 'revenue': 103}, 'yandex': {'ROI': 16.99, 'cost': 153, 'revenue': 179}}\n"
     ]
    }
   ],
   "source": [
    "results = {\n",
    "\"vk\": {'revenue': 103, 'cost': 98},\n",
    "\"yandex\": {'revenue': 179, 'cost': 153},\n",
    "\"facebook\": {'revenue': 103, 'cost': 110},\n",
    "\"adwords\": {'revenue': 35, 'cost': 34},\n",
    "\"twitter\": {'revenue': 11, 'cost': 24},\n",
    "}\n",
    "for element in results.values():\n",
    "    element[\"ROI\"] = round((element[\"revenue\"]/element[\"cost\"] - 1)*100, 2)\n",
    "names_list = sorted(results.keys(), key=lambda t: t[0])\n",
    "values_dict = {}\n",
    "new_dict = {}\n",
    "i = 0\n",
    "final_results = dict(sorted(results.items(), key=lambda t: t[0]))\n",
    "for value in final_results.values():\n",
    "    value = dict(sorted(value.items(), key=lambda t: t[0]))\n",
    "    new_dict[names_list[i]] = value\n",
    "    i += 1\n",
    "print(new_dict)"
   ]
  },
  {
   "cell_type": "code",
   "execution_count": 4,
   "metadata": {},
   "outputs": [
    {
     "name": "stdout",
     "output_type": "stream",
     "text": [
      "Результат: Максимальный объем продаж на рекламном канале: vk\n"
     ]
    }
   ],
   "source": [
    "stats = {\"facebook\": 55, \"yandex\": 115, \"vk\": 120, \"google\": 99, \"email\": 42, \"ok\": 98}\n",
    "max = max(stats, key=lambda key: stats[key])\n",
    "print(\"Результат: Максимальный объем продаж на рекламном канале:\", max)"
   ]
  },
  {
   "cell_type": "code",
   "execution_count": 5,
   "metadata": {},
   "outputs": [
    {
     "name": "stdout",
     "output_type": "stream",
     "text": [
      "Результат: Максимальный объем продаж на рекламном канале: vk\n"
     ]
    }
   ],
   "source": [
    "stats = {\"facebook\": 55, \"yandex\": 115, \"vk\": 120, \"google\": 99, \"email\": 42, \"ok\": 98}\n",
    "sorted_list = sorted(stats, key=lambda key: stats[key])\n",
    "max = sorted_list[-1]\n",
    "print(\"Результат: Максимальный объем продаж на рекламном канале:\", max)"
   ]
  },
  {
   "cell_type": "code",
   "execution_count": 6,
   "metadata": {},
   "outputs": [
    {
     "name": "stdout",
     "output_type": "stream",
     "text": [
      "{'2018-01-01': {'yandex': {'cpc': 100}}}\n"
     ]
    }
   ],
   "source": [
    "my_list = [\"2018-01-01\", \"yandex\", \"cpc\", 100]\n",
    "result = my_list[-1]\n",
    "del my_list[-1]\n",
    "for el in reversed(my_list[::1]):\n",
    "    result = {el: result}\n",
    "print(result)"
   ]
  }
 ],
 "metadata": {
  "kernelspec": {
   "display_name": "Python 3",
   "language": "python",
   "name": "python3"
  },
  "language_info": {
   "codemirror_mode": {
    "name": "ipython",
    "version": 3
   },
   "file_extension": ".py",
   "mimetype": "text/x-python",
   "name": "python",
   "nbconvert_exporter": "python",
   "pygments_lexer": "ipython3",
   "version": "3.8.3"
  }
 },
 "nbformat": 4,
 "nbformat_minor": 4
}
