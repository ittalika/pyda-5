{
 "cells": [
  {
   "cell_type": "code",
   "execution_count": 5,
   "metadata": {},
   "outputs": [
    {
     "name": "stdout",
     "output_type": "stream",
     "text": [
      "es\n"
     ]
    }
   ],
   "source": [
    "word = \"test\"\n",
    "length = len(word)\n",
    "middle = int(length/2)\n",
    "if length % 2 == 0:\n",
    "    print(word[middle - 1] + word[middle])   \n",
    "else:\n",
    "    print(word[length // 2])"
   ]
  },
  {
   "cell_type": "code",
   "execution_count": 24,
   "metadata": {},
   "outputs": [
    {
     "name": "stdout",
     "output_type": "stream",
     "text": [
      "Введите число: \n",
      "5\n",
      "\n",
      "Введите число: \n",
      "5\n",
      "\n",
      "Введите число: \n",
      "5\n",
      "\n",
      "Введите число: \n",
      "0\n",
      "\n",
      "Результат: \n",
      "15\n"
     ]
    }
   ],
   "source": [
    "print(\"Введите число: \")\n",
    "user_input = int(input(\"\"))\n",
    "print()\n",
    "summ = 0\n",
    "while user_input > 0:\n",
    "    summ += user_input\n",
    "    print(\"Введите число: \")\n",
    "    user_input = int(input(\"\"))\n",
    "    print()\n",
    "    if user_input == 0:\n",
    "        break\n",
    "print(\"Результат: \")\n",
    "print(summ) "
   ]
  },
  {
   "cell_type": "code",
   "execution_count": 31,
   "metadata": {},
   "outputs": [
    {
     "name": "stdout",
     "output_type": "stream",
     "text": [
      "Результат:\n",
      "\n",
      "Идеальные пары:\n",
      "Alex и Emma\n",
      "Arthur и Kate\n",
      "John и Kira\n",
      "Peter и Liza\n",
      "Richard и Trisha\n"
     ]
    }
   ],
   "source": [
    "boys = [\"Peter\", \"Alex\", \"John\", \"Arthur\", \"Richard\"]\n",
    "girls = [\"Kate\", \"Liza\", \"Kira\", \"Emma\", \"Trisha\"]\n",
    "if len(boys) == len(girls):\n",
    "    print(\"Результат:\")\n",
    "    print()\n",
    "    print(\"Идеальные пары:\")\n",
    "    for boys, girls in zip(sorted(boys), sorted(girls)):\n",
    "        print(boys, \"и\", girls)\n",
    "else:\n",
    "    print(\"Результат:\")\n",
    "    print(\"Внимание! Кто-то может остаться без пары\")"
   ]
  },
  {
   "cell_type": "code",
   "execution_count": 32,
   "metadata": {},
   "outputs": [
    {
     "name": "stdout",
     "output_type": "stream",
     "text": [
      "Результат:\n",
      "\n",
      "Средняя температура в странах:\n",
      "Thailand — 23.9 C\n",
      "Germany — 13.8 C\n",
      "Russia — 3.7 C\n",
      "Poland — 12.0 C\n"
     ]
    }
   ],
   "source": [
    "countries_temperature = [\n",
    "[\"Thailand\", [75.2, 77, 78.8, 73.4, 68, 75.2, 77]],\n",
    "[\"Germany\", [57.2, 55.4, 59, 59, 53.6]],\n",
    "[\"Russia\", [35.6, 37.4, 39.2, 41, 42.8, 39.2, 35.6]],\n",
    "[\"Poland\", [50, 50, 53.6, 57.2, 55.4, 55.4]]\n",
    "]\n",
    "print(\"Результат:\")\n",
    "print()\n",
    "print(\"Средняя температура в странах:\")\n",
    "for country_info in countries_temperature:\n",
    "    S = (((sum(country_info [1])/len(country_info[1])) - 32)*5/9)\n",
    "    print(country_info [0], \"—\", round(S, 1), \"C\")"
   ]
  },
  {
   "cell_type": "code",
   "execution_count": 11,
   "metadata": {},
   "outputs": [
    {
     "name": "stdout",
     "output_type": "stream",
     "text": [
      "Результат:\n",
      "Среднее количество просмотров на уникального пользователя: 23.25\n"
     ]
    }
   ],
   "source": [
    "stream = [\n",
    "\"2018-01-01,user1,3\",\n",
    "\"2018-01-07,user1,4\",\n",
    "\"2018-03-29,user1,1\",\n",
    "\"2018-04-04,user1,13\",\n",
    "\"2018-01-05,user2,7\",\n",
    "\"2018-06-14,user3,4\",\n",
    "\"2018-07-02,user3,10\",\n",
    "\"2018-03-21,user4,19\",\n",
    "\"2018-03-22,user4,4\",\n",
    "\"2018-04-22,user4,8\",\n",
    "\"2018-05-03,user4,9\",\n",
    "\"2018-05-11,user4,11\",\n",
    "]\n",
    "views = 0\n",
    "users_list = []\n",
    "for log_history in stream: \n",
    "    log_line = log_history.split (\",\")\n",
    "    views += int(log_line [2])\n",
    "    for log_element in log_line:\n",
    "        if (log_line [1]) not in users_list:\n",
    "            users_list.append((log_line [1]))                    \n",
    "users_number = len(users_list)\n",
    "views_all = round (views/users_number, 2)\n",
    "print(\"Результат:\")\n",
    "print(\"Среднее количество просмотров на уникального пользователя:\", views_all)"
   ]
  },
  {
   "cell_type": "code",
   "execution_count": 33,
   "metadata": {},
   "outputs": [
    {
     "name": "stdout",
     "output_type": "stream",
     "text": [
      "Введите числа:\n",
      "4 8 0 3 4 2 0 3\n",
      "Результат:\n",
      "0 3 4\n"
     ]
    }
   ],
   "source": [
    "result_list = []\n",
    "repeated_numbers = []\n",
    "print(\"Введите числа:\")\n",
    "users_input = input(\"\")\n",
    "numbers_list = users_input.split(\" \")\n",
    "for number in numbers_list:\n",
    "  n = int(numbers_list.count(number))\n",
    "  if (n > 1) and number not in repeated_numbers:\n",
    "    result_list.append(number)\n",
    "    repeated_numbers.append(number)\n",
    "sorted_result_list = sorted(result_list)\n",
    "final_result = \" \".join(sorted_result_list)\n",
    "print(\"Результат:\")\n",
    "print(final_result)"
   ]
  }
 ],
 "metadata": {
  "kernelspec": {
   "display_name": "Python 3",
   "language": "python",
   "name": "python3"
  },
  "language_info": {
   "codemirror_mode": {
    "name": "ipython",
    "version": 3
   },
   "file_extension": ".py",
   "mimetype": "text/x-python",
   "name": "python",
   "nbconvert_exporter": "python",
   "pygments_lexer": "ipython3",
   "version": "3.8.3"
  }
 },
 "nbformat": 4,
 "nbformat_minor": 4
}
