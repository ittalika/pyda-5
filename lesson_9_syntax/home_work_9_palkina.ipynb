{
 "cells": [
  {
   "cell_type": "code",
   "execution_count": 27,
   "metadata": {},
   "outputs": [
    {
     "name": "stdout",
     "output_type": "stream",
     "text": [
      "Результат: Номер А222ВС валиден. Регион: 102\n"
     ]
    }
   ],
   "source": [
    "import re\n",
    "\n",
    "def car_id_vldt(car_id):\n",
    "\n",
    "    region_list = list(range(1,100)) + [102, 113, 116, 121, 122, 123, 124, 125, 126, 134, 136, 138, 142, 147, 150, 152, 154, 156, 159, 161, 163, 164, 172, 173, 174, 177, 178, 186, 190, 193, 196, 197, 198, 199, 277, 299, 702, 716, 725, 750, 761, 763, 774, 777, 790, 797, 799]\n",
    "    # https://codificator.ru/code/car.html — актуальные автомобильные коды регионов РФ\n",
    "    \n",
    "    car_id_ = re.search(r'([АВЕКМНОРСТУХ]\\d{3}[АВЕКМНОРСТУХ]{2})(\\d{1,3})', car_id)\n",
    "    \n",
    "    if car_id_ and int(car_id_.group(2)) in region_list:\n",
    "        print(f'Результат: Номер {car_id_.group(1)} валиден. Регион: {car_id_.group(2)}')\n",
    "    else:\n",
    "        print(\"Результат: Номер не валиден\")\n",
    "        \n",
    "car_id_vldt(\"А222ВС102\")"
   ]
  },
  {
   "cell_type": "code",
   "execution_count": 10,
   "metadata": {},
   "outputs": [
    {
     "name": "stdout",
     "output_type": "stream",
     "text": [
      "Напишите функцию, которая будет удалять все последовательные повторы слов из заданной строки при помощи регулярных выражений.\n"
     ]
    }
   ],
   "source": [
    "some_string = 'Напишите функцию функцию функцию, которая будет будет будет будет удалять все все все все последовательные повторы слов из из из из заданной строки строки при помощи регулярных выражений.'\n",
    "\n",
    "def no_repeat():\n",
    "    \n",
    "    new_string = re.sub(r'(\\w+)((\\s)+\\1)+', r'\\1', some_string)\n",
    "    print(new_string)\n",
    "\n",
    "no_repeat()"
   ]
  },
  {
   "cell_type": "code",
   "execution_count": 24,
   "metadata": {},
   "outputs": [
    {
     "name": "stdout",
     "output_type": "stream",
     "text": [
      "N F C\n",
      "NFC\n"
     ]
    }
   ],
   "source": [
    "some_words = 'Near Field Communication'\n",
    "\n",
    "def akro():\n",
    "    \n",
    "    first_let = re.sub(r'(\\w)\\w+', r'\\1', some_words)\n",
    "    akro = (first_let.replace(' ', '')).upper()\n",
    "    \n",
    "    print(akro)"
   ]
  },
  {
   "cell_type": "code",
   "execution_count": 4,
   "metadata": {},
   "outputs": [
    {
     "name": "stdout",
     "output_type": "stream",
     "text": [
      "Результат:\n",
      "\n",
      "gmail.com: 2\n",
      "test.in: 1\n",
      "ya.ru: 2\n",
      "mail.ru: 1\n"
     ]
    }
   ],
   "source": [
    "emails = ['test@gmail.com', 'xyz@test.in', 'test@ya.ru', 'xyz@mail.ru', 'xyz@ya.ru', 'xyz@gmail.com']\n",
    "\n",
    "def domain_count():\n",
    "    pat = r'@(\\w+\\.\\w+)'\n",
    "    e_dict = {}\n",
    "    \n",
    "    for email in emails:\n",
    "        if pat:\n",
    "            domain = re.search(pat, email).group(1)\n",
    "            if domain not in e_dict:\n",
    "                e_dict[domain] = 1\n",
    "            else:\n",
    "                e_dict[domain] += 1 \n",
    "    \n",
    "    print('Результат:', '', sep='\\n')\n",
    "    \n",
    "    for e_, num in e_dict.items():\n",
    "        print(f'{e_}: {num}')\n",
    "        \n",
    "domain_count() \n",
    "    "
   ]
  },
  {
   "cell_type": "code",
   "execution_count": 28,
   "metadata": {},
   "outputs": [
    {
     "name": "stdout",
     "output_type": "stream",
     "text": [
      "Слов на гласные буквы: 9\n",
      "Слов на согласные буквы: 21\n"
     ]
    }
   ],
   "source": [
    "some_text = 'Эталонной реализацией Python является интерпретатор CPython, поддерживающий большинство активно используемых платформ. Он распространяется под свободной лицензией Python Software Foundation License, позволяющей использовать его без ограничений в любых приложениях, включая проприетарные.'\n",
    "\n",
    "def vocals_and_cons():\n",
    "    \n",
    "    dict_ = {}\n",
    "\n",
    "    vocals_list = re.findall(r'\\b[аеёиоуэюыяaeiou]\\b|\\b[аеёиоуэюыяaeiou]\\w+', some_text.lower())\n",
    "    cons_list = re.findall(r'\\b[^аеёиоуэюыяьъaeiou ]\\b|\\b[^аеёиоуэюыяьъaeiou ]\\w+', some_text.lower())\n",
    "\n",
    "    print('Слов на гласные буквы:', len(vocals_list))\n",
    "    print('Слов на согласные буквы:', len(cons_list))\n",
    "\n",
    "vocals_and_cons()"
   ]
  },
  {
   "cell_type": "code",
   "execution_count": 6,
   "metadata": {},
   "outputs": [
    {
     "name": "stdout",
     "output_type": "stream",
     "text": [
      "+7-955-555-55-55\n"
     ]
    }
   ],
   "source": [
    "phone = '7 955 555-55-55'\n",
    "\n",
    "def clear_phone():\n",
    "    clear_format = re.findall(r'\\d', phone)\n",
    "    num_len = len(clear_format)\n",
    "    code_list = [7, 8]\n",
    "    f_line = ''.join(clear_format)\n",
    "\n",
    "    if num_len == 11:\n",
    "        if int(clear_format[0]) in code_list:\n",
    "            new_line = re.sub(r'(\\d)(\\d{3})(\\d{3})(\\d{2})(\\d{2})', r'+7-\\2-\\3-\\4-\\5', f_line)\n",
    "            print(new_line)\n",
    "        else:\n",
    "            print(\"Результат: Номер не валиден\")\n",
    "    else:\n",
    "        print('Результат: Номер не валиден')\n",
    "        \n",
    "clear_phone()"
   ]
  },
  {
   "cell_type": "code",
   "execution_count": null,
   "metadata": {},
   "outputs": [],
   "source": []
  }
 ],
 "metadata": {
  "kernelspec": {
   "display_name": "Python 3",
   "language": "python",
   "name": "python3"
  },
  "language_info": {
   "codemirror_mode": {
    "name": "ipython",
    "version": 3
   },
   "file_extension": ".py",
   "mimetype": "text/x-python",
   "name": "python",
   "nbconvert_exporter": "python",
   "pygments_lexer": "ipython3",
   "version": "3.8.3"
  }
 },
 "nbformat": 4,
 "nbformat_minor": 4
}
