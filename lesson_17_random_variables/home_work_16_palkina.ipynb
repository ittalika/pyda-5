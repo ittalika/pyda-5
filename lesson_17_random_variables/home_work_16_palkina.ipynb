{
 "cells": [
  {
   "cell_type": "code",
   "execution_count": 5,
   "metadata": {},
   "outputs": [
    {
     "name": "stdout",
     "output_type": "stream",
     "text": [
      "Вероятность выигрыша из моделирования: 20.41 %\n",
      "Средний выигрыш/проигрыш: -0.1977 руб.\n"
     ]
    }
   ],
   "source": [
    "# Смоделируем игру \n",
    "\n",
    "import numpy as np\n",
    "\n",
    "trials = 10**6\n",
    "successes = 0\n",
    "\n",
    "good_luck = {777: 200, 999: 100, 555: 50, 333: 15, 111: 10}\n",
    "x77 = [x for x in range(77, 1000, 100)]\n",
    "xx7 = [x for x in range(7, 1000, 10)]\n",
    "x00 = [x for x in range(0, 1000, 100)]\n",
    "xx0 = [x for x in range(10, 1000, 10)]\n",
    "\n",
    "win = 0\n",
    "spent = 0\n",
    "\n",
    "for i in range(trials):\n",
    "    number = np.random.randint(0, 1000)\n",
    "    if number in good_luck.keys():\n",
    "        successes += 1\n",
    "        win += good_luck[number]\n",
    "        spent += 1\n",
    "    elif number in x77:\n",
    "        successes += 1\n",
    "        win += 5\n",
    "        spent += 1\n",
    "    elif number in xx7:\n",
    "        successes += 1\n",
    "        win += 3\n",
    "        spent += 1\n",
    "    elif number in x00:\n",
    "        successes += 1\n",
    "        win += 2\n",
    "        spent += 1\n",
    "    elif number in xx0:\n",
    "        successes += 1\n",
    "        win += 1\n",
    "        spent += 1\n",
    "    else:\n",
    "        spent += 1\n",
    "    \n",
    "p_monte_carlo = successes / trials\n",
    "res = win - spent \n",
    "average_win = res / trials\n",
    "\n",
    "print('Вероятность выигрыша из моделирования:', round(p_monte_carlo * 100, 2), '%')\n",
    "print('Средний выигрыш/проигрыш:', round(average_win, 4), 'руб.')"
   ]
  },
  {
   "cell_type": "code",
   "execution_count": 3,
   "metadata": {},
   "outputs": [
    {
     "name": "stdout",
     "output_type": "stream",
     "text": [
      "Теоретическая вероятность выигрыша: 20.42 %\n"
     ]
    }
   ],
   "source": [
    "# Посчитаем теоретическую вероятность выигрыша\n",
    "\n",
    "good_luck_numbers = set(list(good_luck) + x77 + xx7 + x00 + xx0)\n",
    "p = len(good_luck_numbers)/999\n",
    "print('Теоретическая вероятность выигрыша:', round((p * 100), 2), '%')"
   ]
  },
  {
   "cell_type": "markdown",
   "metadata": {},
   "source": [
    "# Посчитаем теоретический средний выигрыш/проигрыш \n",
    "\n",
    "list_p = []\n",
    "\n",
    "for x in good_luck.values():\n",
    "    p_1 = x * 1 / 999\n",
    "    list_p.append(p_1)\n",
    "\n",
    "for x_ in good_luck_numbers:\n",
    "    if x_ in x77:\n",
    "        if x_ != 777:\n",
    "            p_2 = 5 * 1 / 999\n",
    "            list_p.append(p_2)\n",
    "    elif x_ in xx7:\n",
    "        if x_ != 777:\n",
    "            if x_ != 77:\n",
    "                p_2 = 3 * 1 / 999\n",
    "                list_p.append(p_2)\n",
    "    elif x_ in x00:\n",
    "        p_2 = 2 * 1 / 999\n",
    "        list_p.append(p_2)\n",
    "    elif x_ in xx0:\n",
    "        p_2 = 1 / 999\n",
    "        list_p.append(p_2)\n",
    "        \n",
    "average_win = sum(list_p)\n",
    "possible_game_res = round(average_win - (1 - p), 7)\n",
    "print('Теоретически вероятный средний выигрыш/проигрыш:', possible_game_res, 'руб.')"
   ]
  },
  {
   "cell_type": "markdown",
   "metadata": {},
   "source": [
    "### Вывод \n",
    "\n",
    "Вероятность выигрыша из моделирования и теоретических вычислений очень близки друг к другу: 20.41 % и 20.42 % соответственно.    \n",
    "\n",
    "Что касается наиболее вероятного исхода игры, то модельная ситуация показала, что игрок остается в проигрыше почти на 20 копеек с каждой игры, что при большом количестве игр может обернуться большим проигрышем (в нашем случае Python \"проиграл\" 2 млн рублей). Исходя из того что в среднем ситуация является проигрышной для игрока, а проигрыш составляет пятую часть стоимости билета, от автомата лучше держаться подальше — игра не является выгодной, мягко говоря."
   ]
  },
  {
   "cell_type": "code",
   "execution_count": null,
   "metadata": {},
   "outputs": [],
   "source": []
  }
 ],
 "metadata": {
  "kernelspec": {
   "display_name": "Python 3",
   "language": "python",
   "name": "python3"
  },
  "language_info": {
   "codemirror_mode": {
    "name": "ipython",
    "version": 3
   },
   "file_extension": ".py",
   "mimetype": "text/x-python",
   "name": "python",
   "nbconvert_exporter": "python",
   "pygments_lexer": "ipython3",
   "version": "3.8.3"
  }
 },
 "nbformat": 4,
 "nbformat_minor": 4
}
